{
 "cells": [
  {
   "cell_type": "markdown",
   "id": "e91428c0",
   "metadata": {},
   "source": [
    "# Fine-tuning LLaMA on Small Documents Corpus using AWS SageMaker"
   ]
  },
  {
   "cell_type": "code",
   "execution_count": 1,
   "id": "9984f120",
   "metadata": {},
   "outputs": [],
   "source": [
    "%pip install sagemaker transformers datasets"
   ]
  },
  {
   "cell_type": "code",
   "execution_count": 2,
   "id": "72c7ef4f",
   "metadata": {},
   "outputs": [],
   "source": [
    "import sagemaker\n",
    "from sagemaker.pytorch import PyTorch\n",
    "from transformers import LlamaForCausalLM, LlamaTokenizer\n",
    "from datasets import load_dataset\n",
    "import os\n",
    "import boto3"
   ]
  },
  {
   "cell_type": "code",
   "execution_count": 3,
   "id": "13e5e38e",
   "metadata": {},
   "outputs": [],
   "source": [
    "sagemaker_session = sagemaker.Session()\n",
    "role = sagemaker.get_execution_role()"
   ]
  },
  {
   "cell_type": "markdown",
   "id": "670b6625",
   "metadata": {},
   "source": [
    "## Prepare the dataset"
   ]
  },
  {
   "cell_type": "code",
   "execution_count": 4,
   "id": "c9dec2bd",
   "metadata": {},
   "outputs": [],
   "source": [
    "# Load a sample documents dataset\n",
    "dataset = load_dataset('wikitext', 'wikitext-2-raw-v1')\n",
    "\n",
    "# Tokenize\n",
    "tokenizer = LlamaTokenizer.from_pretrained('hf-internal-testing/llama-tokenizer')\n",
    "\n",
    "def tokenize_function(examples):\n",
    "    return tokenizer(examples['text'], truncation=True, padding='max_length', max_length=512)\n",
    "\n",
    "tokenized_datasets = dataset.map(tokenize_function, batched=True)"
   ]
  },
  {
   "cell_type": "markdown",
   "id": "93d468b7",
   "metadata": {},
   "source": [
    "## Save the tokenized dataset to S3"
   ]
  },
  {
   "cell_type": "code",
   "execution_count": 5,
   "id": "f13c5b0d",
   "metadata": {},
   "outputs": [],
   "source": [
    "s3_output_path = os.environ.get('S3_OUT_PATH')\n",
    "s3_output_bucket = os.environ.get('S3_OUT_BUCKET')\n",
    "\n",
    "tokenized_datasets.save_to_disk('./tokenized-datasets')\n",
    "\n",
    "# Upload the dataset to S3\n",
    "s3 = boto3.client('s3')\n",
    "for root, dirs, files in os.walk('./tokenized-datasets'):\n",
    "    for file in files:\n",
    "        s3.upload_file(os.path.join(root, file), s3_output_bucket, f'tokenized-datasets/{file}')"
   ]
  },
  {
   "cell_type": "markdown",
   "id": "8576af00",
   "metadata": {},
   "source": [
    "## Fine-tune the LLaMA model"
   ]
  },
  {
   "cell_type": "code",
   "execution_count": 6,
   "id": "ef94bc31",
   "metadata": {},
   "outputs": [],
   "source": [
    "from sagemaker.huggingface import HuggingFace\n",
    "\n",
    "huggingface_estimator = HuggingFace(\n",
    "    entry_point='train.py',\n",
    "    source_dir='./',\n",
    "    instance_type='ml.p3.2xlarge',\n",
    "    instance_count=1,\n",
    "    role=role,\n",
    "    transformers_version='4.6',\n",
    "    pytorch_version='1.7.1',\n",
    "    py_version='py36',\n",
    "    hyperparameters={\n",
    "        'model_name_or_path': 'hf-internal-testing/llama-tokenizer',\n",
    "        'output_dir': '/opt/ml/model',\n",
    "        'per_device_train_batch_size': 8,\n",
    "        'num_train_epochs': 3,\n",
    "        'save_steps': 10_000,\n",
    "        'save_total_limit': 2,\n",
    "    },\n",
    ")\n",
    "\n",
    "huggingface_estimator.fit({'train': s3_output_path})"
   ]
  },
  {
   "cell_type": "markdown",
   "id": "c509d5ef",
   "metadata": {},
   "source": [
    "## Deploy the fine-tuned model"
   ]
  },
  {
   "cell_type": "code",
   "execution_count": 7,
   "id": "a4df38a4",
   "metadata": {},
   "outputs": [],
   "source": [
    "predictor = huggingface_estimator.deploy(\n",
    "    initial_instance_count=1,\n",
    "    instance_type='ml.m5.large'\n",
    ")\n",
    "\n",
    "print(f'Model deployed at endpoint: {predictor.endpoint_name}')"
   ]
  },
  {
   "cell_type": "markdown",
   "id": "7405c7c1",
   "metadata": {},
   "source": [
    "## Test the deployed model"
   ]
  },
  {
   "cell_type": "code",
   "execution_count": 8,
   "id": "391a1c0d",
   "metadata": {},
   "outputs": [],
   "source": [
    "test_input = tokenizer.encode(\"This is a test input.\", return_tensors=\"pt\")\n",
    "output = predictor.predict({'inputs': test_input.tolist()})\n",
    "print(output)"
   ]
  },
  {
   "cell_type": "markdown",
   "id": "45dd147f",
   "metadata": {},
   "source": [
    "## Clean up"
   ]
  },
  {
   "cell_type": "code",
   "execution_count": 9,
   "id": "4f85e05e",
   "metadata": {},
   "outputs": [],
   "source": [
    "# predictor.delete_endpoint()"
   ]
  }
 ],
 "metadata": {
  "kernelspec": {
   "display_name": "Python 3",
   "language": "python",
   "name": "python3"
  },
  "language_info": {
   "codemirror_mode": {
    "name": "ipython",
    "version": 3
   },
   "file_extension": ".py",
   "mimetype": "text/x-python",
   "name": "python",
   "nbconvert_exporter": "python",
   "pygments_lexer": "ipython3",
   "version": "3.8.10"
  }
 },
 "nbformat": 4,
 "nbformat_minor": 5
}
